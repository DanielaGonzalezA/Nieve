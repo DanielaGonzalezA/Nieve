{
  "cells": [
    {
      "cell_type": "code",
      "source": [
        "# Instalar nuevos paquetes solo la primera vez\n",
        "#!pip install geemap"
      ],
      "metadata": {
        "id": "uKHWtd2CMST8"
      },
      "id": "uKHWtd2CMST8",
      "execution_count": 6,
      "outputs": []
    },
    {
      "cell_type": "code",
      "execution_count": 7,
      "id": "6996b4e7",
      "metadata": {
        "id": "6996b4e7"
      },
      "outputs": [],
      "source": [
        "# Llamamos a la libreria de gee API y paquetes\n",
        "import ee\n",
        "import datetime\n",
        "import geemap"
      ]
    },
    {
      "cell_type": "code",
      "execution_count": 8,
      "id": "3f1249c8",
      "metadata": {
        "id": "3f1249c8"
      },
      "outputs": [],
      "source": [
        "# Autorizar acceso a Google Earth Engine por unica vez\n",
        "#ee.Authenticate()\n",
        "\n",
        "# Iniciar Google Earth Engine cada vez que deseemos correr los codigos\n",
        "ee.Initialize()"
      ]
    },
    {
      "cell_type": "code",
      "execution_count": 9,
      "id": "1d4fc0c1",
      "metadata": {
        "id": "1d4fc0c1",
        "colab": {
          "base_uri": "https://localhost:8080/"
        },
        "outputId": "980210a2-a63b-4c49-9708-ea90c8d0f9ca"
      },
      "outputs": [
        {
          "output_type": "stream",
          "name": "stdout",
          "text": [
            "{'type': 'Date', 'value': 1668988800000}\n",
            "10\n",
            "2022\n"
          ]
        }
      ],
      "source": [
        "################################################## Data #######################################################################\n",
        "# ID asset gee\n",
        "territorio_nacional = ee.FeatureCollection('users/proyectosequiateleamb/Regiones/DPA_regiones_nacional')\n",
        "\n",
        "# Colecciones de imagenes MODIS\n",
        "MODIScollection = (ee.ImageCollection('MODIS/006/MOD10A1'))\n",
        "\n",
        "# Se ordena la coleccion para que muestre la ultima imagen\n",
        "MODISsorted = MODIScollection.sort('system:time_start', False).first()\n",
        "\n",
        "# Muestra la fecha actual\n",
        "currentDate = ee.Date(MODISsorted.get('system:time_start'))\n",
        "\n",
        "# Muestra el mes anterior\n",
        "Month = currentDate.getRelative('month', 'year');\n",
        "\n",
        "# Muestra el año actual\n",
        "YearCurrent = currentDate.get('year');\n",
        "\n",
        "info1 = currentDate.getInfo()\n",
        "print(info1)\n",
        "\n",
        "info2 = Month.getInfo()\n",
        "print(info2)\n",
        "\n",
        "info3 = YearCurrent.getInfo()\n",
        "print(info3)"
      ]
    },
    {
      "cell_type": "code",
      "execution_count": 14,
      "id": "c755d6fd",
      "metadata": {
        "scrolled": false,
        "id": "c755d6fd",
        "colab": {
          "base_uri": "https://localhost:8080/"
        },
        "outputId": "a95decd1-7c78-410a-ac1d-2c028af6d605"
      },
      "outputs": [
        {
          "output_type": "stream",
          "name": "stdout",
          "text": [
            "{'type': 'Image', 'bands': [{'id': 'SCI', 'data_type': {'type': 'PixelType', 'precision': 'int', 'min': 0, 'max': 100}, 'crs': 'SR-ORG:6974', 'crs_transform': [463.3127165279165, 0, -20015109.353988, 0, -463.3127165274999, 10007554.676994]}, {'id': 'CCI', 'data_type': {'type': 'PixelType', 'precision': 'int', 'min': 0, 'max': 100}, 'crs': 'SR-ORG:6974', 'crs_transform': [463.3127165279165, 0, -20015109.353988, 0, -463.3127165274999, 10007554.676994]}], 'version': 1641324219874357, 'id': 'MODIS/006/MOD10A1/2000_02_24', 'properties': {'system:time_start': 951350400000, 'google:max_source_file_timestamp': 1513706761000, 'system:footprint': {'type': 'LinearRing', 'coordinates': [[-180, -90], [180, -90], [180, 90], [-180, 90], [-180, -90]]}, 'system:time_end': 951436800000, 'system:asset_size': 396169135, 'system:index': '2000_02_24'}}\n"
          ]
        }
      ],
      "source": [
        "################################################## Function #######################################################################\n",
        "# Se define umbral NDSI\n",
        "umbralNDSI = 40\n",
        "\n",
        "# Se define una funcion para calcular SCI y CCI // En las funciones se debe tener consideracion con sagria en python\n",
        "def snowcloudMask(image): \n",
        "    snow = image.select('NDSI_Snow_Cover').gte(umbralNDSI).multiply(100).rename('SCI')\n",
        "    cloud = image.select('Snow_Albedo_Daily_Tile_Class').eq(150).multiply(100).rename('CCI')\n",
        "    \n",
        "    return image.addBands(snow).addBands(cloud)\n",
        "\n",
        "# Coleccion con banda de nieve binario y nubes\n",
        "Snow_cloud_collection = MODIScollection.map(snowcloudMask).select('SCI', 'CCI');\n",
        "\n",
        "#print(Snow_cloud_collection)\n",
        "\n",
        "info4 = Snow_cloud_collection.first().getInfo()\n",
        "print(info4)"
      ]
    },
    {
      "cell_type": "code",
      "execution_count": 11,
      "id": "2d9d7ab4",
      "metadata": {
        "id": "2d9d7ab4",
        "colab": {
          "base_uri": "https://localhost:8080/"
        },
        "outputId": "eb7de174-ef17-4e0a-8a3f-7129ac1512cb"
      },
      "outputs": [
        {
          "output_type": "stream",
          "name": "stdout",
          "text": [
            "[2022]\n",
            "[10]\n"
          ]
        }
      ],
      "source": [
        "############################################# Composition year and monthly #####################################################\n",
        "# Lista de sequencia anual y mensual\n",
        "years = ee.List.sequence(YearCurrent, YearCurrent);\n",
        "months = ee.List.sequence(Month, Month);\n",
        "\n",
        "info5 = years.getInfo()\n",
        "print(info5)\n",
        "\n",
        "info6 = months.getInfo()\n",
        "print(info6)"
      ]
    },
    {
      "cell_type": "code",
      "execution_count": 15,
      "id": "661dfbba",
      "metadata": {
        "id": "661dfbba"
      },
      "outputs": [],
      "source": [
        "# Asigne una funcion para seleccionar datos dentro del año y aplique el reductor por promedio \n",
        "# Como resultado generara una nueva coleccion del promedio NDSI binario año y mes\n",
        "def function1(y):\n",
        "    def function2(m):\n",
        "        return Snow_cloud_collection.filter(ee.Filter.calendarRange(y, y, 'year')).filter(ee.Filter.calendarRange(m, m, 'month')).mean().set('month', m).set('year', y).set('system:time_start', ee.Date.fromYMD(y, m, 1).format('YYYY-MM'));\n",
        "    return months.map(function2)\n",
        "\n",
        "MonthYearcollection = ee.ImageCollection.fromImages(years.map(function1).flatten())"
      ]
    },
    {
      "cell_type": "code",
      "execution_count": 16,
      "id": "219170b5",
      "metadata": {
        "id": "219170b5",
        "colab": {
          "base_uri": "https://localhost:8080/"
        },
        "outputId": "0b76ccf7-1de5-48bd-ca2d-2815f7fe62d2"
      },
      "outputs": [
        {
          "output_type": "stream",
          "name": "stdout",
          "text": [
            "{'type': 'ImageCollection', 'bands': [], 'features': [{'type': 'Image', 'bands': [{'id': 'SCI', 'data_type': {'type': 'PixelType', 'precision': 'double', 'min': 0, 'max': 100}, 'crs': 'EPSG:4326', 'crs_transform': [1, 0, 0, 0, 1, 0]}, {'id': 'CCI', 'data_type': {'type': 'PixelType', 'precision': 'double', 'min': 0, 'max': 100}, 'crs': 'EPSG:4326', 'crs_transform': [1, 0, 0, 0, 1, 0]}], 'properties': {'system:time_start': '2022-10', 'month': 10, 'year': 2022, 'system:index': '0'}}]}\n"
          ]
        }
      ],
      "source": [
        "print(MonthYearcollection.getInfo())"
      ]
    },
    {
      "cell_type": "code",
      "execution_count": 17,
      "id": "2904cc97",
      "metadata": {
        "id": "2904cc97",
        "colab": {
          "base_uri": "https://localhost:8080/"
        },
        "outputId": "28527249-4dd0-4edf-a681-5567b3509403"
      },
      "outputs": [
        {
          "output_type": "stream",
          "name": "stdout",
          "text": [
            "{'type': 'Image', 'bands': [{'id': 'SCI', 'data_type': {'type': 'PixelType', 'precision': 'double', 'min': 0, 'max': 100}, 'crs': 'EPSG:4326', 'crs_transform': [1, 0, 0, 0, 1, 0]}, {'id': 'CCI', 'data_type': {'type': 'PixelType', 'precision': 'double', 'min': 0, 'max': 100}, 'crs': 'EPSG:4326', 'crs_transform': [1, 0, 0, 0, 1, 0]}], 'properties': {'system:time_start': '2022-10', 'month': 10, 'year': 2022, 'system:index': '0'}}\n"
          ]
        }
      ],
      "source": [
        "# Muestra la ultima imagen con el promedio de sci y cci\n",
        "last_image = MonthYearcollection.first()\n",
        "print(last_image.getInfo())"
      ]
    },
    {
      "cell_type": "code",
      "execution_count": 21,
      "id": "401edec9",
      "metadata": {
        "id": "401edec9"
      },
      "outputs": [],
      "source": [
        "# Exportar ultima imagen de la coleccion a carpeta de Google Drive\n",
        "property = last_image.get('system:time_start').getInfo()\n",
        "\n",
        "task_config = {\n",
        "        'image':last_image,\n",
        "        'description': 'MOD10A1_SCI_CCI_' + property,\n",
        "        'scale': 500,\n",
        "        'region':territorio_nacional.geometry(),\n",
        "        'maxPixels': 1E8,\n",
        "        'folder': 'SCI&CCI'\n",
        "    }\n",
        "    \n",
        "task = ee.batch.Export.image.toDrive(**task_config)\n",
        "task.start()"
      ]
    },
    {
      "cell_type": "code",
      "execution_count": 23,
      "id": "062f6dd8",
      "metadata": {
        "id": "062f6dd8",
        "colab": {
          "base_uri": "https://localhost:8080/",
          "height": 621,
          "referenced_widgets": [
            "bf18be8d37aa4102ad65cb99c7f1a5d9",
            "e62ef53dbacf408ca7017f7edc0ee9e7",
            "4b78ed938e624d359261b7bed6997d7a",
            "d8ec877b96964b81be0ac71f52b0759a",
            "b7f8645f6ad04f74aecccb86fcfb23f3",
            "9e0ff6e49f0f451780b6f6227a7009ec",
            "014054a029204c17abbcc502c0f78c84",
            "e9456296b20e42dbb9765370aa51b4b7",
            "a883ac4ba57445a99e2aaa4a663277b2",
            "2ec8e65cfffe4685a9ac11e874938b3f",
            "f335bb4cb85749ad9f6536e6830595ed",
            "f887340480e144338a83533353bfada0",
            "9e860332bcc34d128683f05f9413a5a1",
            "e40d441046c0418589cae594034ec22d",
            "ece05e7b13654f25ab96d8f34d0b59cf",
            "0a35fa3361134fb4888e82f07693972d",
            "c24a1eff9e2f4583aaeea4cf023e6da6",
            "92ca5a9ea1e5418382c1e200d6130f1d",
            "4fb8806f42164d2381e44c161295bfa7",
            "b2cfd0796e2f4a5088ba1cd464fdba4e",
            "db0d04a00f384f0093a564d242b523b0",
            "3b783ba4fbaf4db3bb0ff63aa4f2b4e6",
            "dc9e7634e76744caab18c9d1efefc654",
            "0e2185745deb4065a7337009e964a58b",
            "e52650fe3b694364bed159f1ab468a0d",
            "22feffdf93f44692ad9cf6637bf486f8",
            "8f1f6ab593964fbebdf538a56c634380"
          ]
        },
        "outputId": "3be5562a-7e9f-40f1-d2d7-e74ac7dfd2e2"
      },
      "outputs": [
        {
          "output_type": "display_data",
          "data": {
            "text/plain": [
              "Map(center=[20, 0], controls=(WidgetControl(options=['position', 'transparent_bg'], widget=HBox(children=(Togg…"
            ],
            "application/vnd.jupyter.widget-view+json": {
              "version_major": 2,
              "version_minor": 0,
              "model_id": "bf18be8d37aa4102ad65cb99c7f1a5d9"
            }
          },
          "metadata": {
            "application/vnd.jupyter.widget-view+json": {
              "colab": {
                "custom_widget_manager": {
                  "url": "https://ssl.gstatic.com/colaboratory-static/widgets/colab-cdn-widget-manager/d2e234f7cc04bf79/manager.min.js"
                }
              }
            }
          }
        }
      ],
      "source": [
        "# Se llama a la funcion map desde la libreria geemap\n",
        "Map = geemap.Map()\n",
        "Map"
      ]
    },
    {
      "cell_type": "code",
      "execution_count": 24,
      "id": "c362200d",
      "metadata": {
        "id": "c362200d"
      },
      "outputs": [],
      "source": [
        "# Parametros de visualizacion del mapa\n",
        "colorizedVis_SCI = {\n",
        "  'min': 0.0,\n",
        "  'max': 100.0,\n",
        "  'palette': ['black', '0dffff', '0524ff', 'ffffff']\n",
        "}\n",
        "\n",
        "colorizedVis_CCI = {\n",
        "  'min': 0.0,\n",
        "  'max': 100.0,\n",
        "  'palette': ['ffffff', '0dffff', '0524ff', 'gray'] \n",
        "}\n",
        "\n",
        "Map.addLayer(last_image.clip(territorio_nacional).select('SCI'), colorizedVis_SCI, 'SCI')\n",
        "Map.addLayer(last_image.clip(territorio_nacional).select('CCI'), colorizedVis_CCI, 'CCI')\n",
        "\n",
        "Map.centerObject(territorio_nacional, 5)"
      ]
    }
  ],
  "metadata": {
    "kernelspec": {
      "display_name": "Python 3 (ipykernel)",
      "language": "python",
      "name": "python3"
    },
    "language_info": {
      "codemirror_mode": {
        "name": "ipython",
        "version": 3
      },
      "file_extension": ".py",
      "mimetype": "text/x-python",
      "name": "python",
      "nbconvert_exporter": "python",
      "pygments_lexer": "ipython3",
      "version": "3.9.13"
    },
    "colab": {
      "provenance": []
    },
    "widgets": {
      "application/vnd.jupyter.widget-state+json": {
        "bf18be8d37aa4102ad65cb99c7f1a5d9": {
          "model_module": "jupyter-leaflet",
          "model_name": "LeafletMapModel",
          "model_module_version": "^0.17",
          "state": {
            "_dom_classes": [],
            "_model_module": "jupyter-leaflet",
            "_model_module_version": "^0.17",
            "_model_name": "LeafletMapModel",
            "_view_count": null,
            "_view_module": "jupyter-leaflet",
            "_view_module_version": "^0.17",
            "_view_name": "LeafletMapView",
            "bottom": 5292,
            "bounce_at_zoom_limits": true,
            "box_zoom": true,
            "center": [
              -36.597889133070204,
              -71.01562500000001
            ],
            "close_popup_on_click": true,
            "controls": [
              "IPY_MODEL_e62ef53dbacf408ca7017f7edc0ee9e7",
              "IPY_MODEL_4b78ed938e624d359261b7bed6997d7a",
              "IPY_MODEL_d8ec877b96964b81be0ac71f52b0759a",
              "IPY_MODEL_b7f8645f6ad04f74aecccb86fcfb23f3",
              "IPY_MODEL_9e0ff6e49f0f451780b6f6227a7009ec",
              "IPY_MODEL_014054a029204c17abbcc502c0f78c84",
              "IPY_MODEL_e9456296b20e42dbb9765370aa51b4b7",
              "IPY_MODEL_a883ac4ba57445a99e2aaa4a663277b2"
            ],
            "crs": {
              "name": "EPSG3857",
              "custom": false
            },
            "default_style": "IPY_MODEL_2ec8e65cfffe4685a9ac11e874938b3f",
            "double_click_zoom": true,
            "dragging": true,
            "dragging_style": "IPY_MODEL_f335bb4cb85749ad9f6536e6830595ed",
            "east": -36.25488281250001,
            "fullscreen": false,
            "inertia": true,
            "inertia_deceleration": 3000,
            "inertia_max_speed": 1500,
            "interpolation": "bilinear",
            "keyboard": true,
            "keyboard_pan_offset": 80,
            "keyboard_zoom_offset": 1,
            "layers": [
              "IPY_MODEL_f887340480e144338a83533353bfada0",
              "IPY_MODEL_9e860332bcc34d128683f05f9413a5a1",
              "IPY_MODEL_22feffdf93f44692ad9cf6637bf486f8",
              "IPY_MODEL_8f1f6ab593964fbebdf538a56c634380"
            ],
            "layout": "IPY_MODEL_e40d441046c0418589cae594034ec22d",
            "left": 1690,
            "max_zoom": 24,
            "min_zoom": null,
            "modisdate": "2022-11-23",
            "north": -25.324166525738384,
            "options": [
              "bounce_at_zoom_limits",
              "box_zoom",
              "center",
              "close_popup_on_click",
              "double_click_zoom",
              "dragging",
              "fullscreen",
              "inertia",
              "inertia_deceleration",
              "inertia_max_speed",
              "interpolation",
              "keyboard",
              "keyboard_pan_offset",
              "keyboard_zoom_offset",
              "max_zoom",
              "min_zoom",
              "prefer_canvas",
              "scroll_wheel_zoom",
              "tap",
              "tap_tolerance",
              "touch_zoom",
              "world_copy_jump",
              "zoom",
              "zoom_animation_threshold",
              "zoom_delta",
              "zoom_snap"
            ],
            "panes": {},
            "prefer_canvas": false,
            "right": 3271,
            "scroll_wheel_zoom": true,
            "south": -46.43785689502421,
            "style": "IPY_MODEL_f335bb4cb85749ad9f6536e6830595ed",
            "tap": true,
            "tap_tolerance": 15,
            "top": 4692,
            "touch_zoom": true,
            "west": -105.73242187500001,
            "window_url": "https://17j0xbnmve5-496ff2e9c6d22116-0-colab.googleusercontent.com/outputframe.html?vrz=colab-20221122-060107-RC02_490329686",
            "world_copy_jump": false,
            "zoom": 5,
            "zoom_animation_threshold": 4,
            "zoom_delta": 1,
            "zoom_snap": 1
          }
        },
        "e62ef53dbacf408ca7017f7edc0ee9e7": {
          "model_module": "jupyter-leaflet",
          "model_name": "LeafletWidgetControlModel",
          "model_module_version": "^0.17",
          "state": {
            "_model_module": "jupyter-leaflet",
            "_model_module_version": "^0.17",
            "_model_name": "LeafletWidgetControlModel",
            "_view_count": null,
            "_view_module": "jupyter-leaflet",
            "_view_module_version": "^0.17",
            "_view_name": "LeafletWidgetControlView",
            "max_height": null,
            "max_width": null,
            "min_height": null,
            "min_width": null,
            "options": [
              "position",
              "transparent_bg"
            ],
            "position": "topleft",
            "transparent_bg": false,
            "widget": "IPY_MODEL_0a35fa3361134fb4888e82f07693972d"
          }
        },
        "4b78ed938e624d359261b7bed6997d7a": {
          "model_module": "jupyter-leaflet",
          "model_name": "LeafletZoomControlModel",
          "model_module_version": "^0.17",
          "state": {
            "_model_module": "jupyter-leaflet",
            "_model_module_version": "^0.17",
            "_model_name": "LeafletZoomControlModel",
            "_view_count": null,
            "_view_module": "jupyter-leaflet",
            "_view_module_version": "^0.17",
            "_view_name": "LeafletZoomControlView",
            "options": [
              "position",
              "zoom_in_text",
              "zoom_in_title",
              "zoom_out_text",
              "zoom_out_title"
            ],
            "position": "topleft",
            "zoom_in_text": "+",
            "zoom_in_title": "Zoom in",
            "zoom_out_text": "-",
            "zoom_out_title": "Zoom out"
          }
        },
        "d8ec877b96964b81be0ac71f52b0759a": {
          "model_module": "jupyter-leaflet",
          "model_name": "LeafletScaleControlModel",
          "model_module_version": "^0.17",
          "state": {
            "_model_module": "jupyter-leaflet",
            "_model_module_version": "^0.17",
            "_model_name": "LeafletScaleControlModel",
            "_view_count": null,
            "_view_module": "jupyter-leaflet",
            "_view_module_version": "^0.17",
            "_view_name": "LeafletScaleControlView",
            "imperial": true,
            "max_width": 100,
            "metric": true,
            "options": [
              "imperial",
              "max_width",
              "metric",
              "position",
              "update_when_idle"
            ],
            "position": "bottomleft",
            "update_when_idle": false
          }
        },
        "b7f8645f6ad04f74aecccb86fcfb23f3": {
          "model_module": "jupyter-leaflet",
          "model_name": "LeafletFullScreenControlModel",
          "model_module_version": "^0.17",
          "state": {
            "_model_module": "jupyter-leaflet",
            "_model_module_version": "^0.17",
            "_model_name": "LeafletFullScreenControlModel",
            "_view_count": null,
            "_view_module": "jupyter-leaflet",
            "_view_module_version": "^0.17",
            "_view_name": "LeafletFullScreenControlView",
            "options": [
              "position"
            ],
            "position": "topleft"
          }
        },
        "9e0ff6e49f0f451780b6f6227a7009ec": {
          "model_module": "jupyter-leaflet",
          "model_name": "LeafletMeasureControlModel",
          "model_module_version": "^0.17",
          "state": {
            "_custom_units": {},
            "_model_module": "jupyter-leaflet",
            "_model_module_version": "^0.17",
            "_model_name": "LeafletMeasureControlModel",
            "_view_count": null,
            "_view_module": "jupyter-leaflet",
            "_view_module_version": "^0.17",
            "_view_name": "LeafletMeasureControlView",
            "active_color": "orange",
            "capture_z_index": 10000,
            "completed_color": "#C8F2BE",
            "options": [
              "active_color",
              "capture_z_index",
              "completed_color",
              "popup_options",
              "position",
              "primary_area_unit",
              "primary_length_unit",
              "secondary_area_unit",
              "secondary_length_unit"
            ],
            "popup_options": {
              "className": "leaflet-measure-resultpopup",
              "autoPanPadding": [
                10,
                10
              ]
            },
            "position": "bottomleft",
            "primary_area_unit": "acres",
            "primary_length_unit": "kilometers",
            "secondary_area_unit": null,
            "secondary_length_unit": null
          }
        },
        "014054a029204c17abbcc502c0f78c84": {
          "model_module": "jupyter-leaflet",
          "model_name": "LeafletAttributionControlModel",
          "model_module_version": "^0.17",
          "state": {
            "_model_module": "jupyter-leaflet",
            "_model_module_version": "^0.17",
            "_model_name": "LeafletAttributionControlModel",
            "_view_count": null,
            "_view_module": "jupyter-leaflet",
            "_view_module_version": "^0.17",
            "_view_name": "LeafletAttributionControlView",
            "options": [
              "position",
              "prefix"
            ],
            "position": "bottomright",
            "prefix": "ipyleaflet"
          }
        },
        "e9456296b20e42dbb9765370aa51b4b7": {
          "model_module": "jupyter-leaflet",
          "model_name": "LeafletDrawControlModel",
          "model_module_version": "^0.17",
          "state": {
            "_model_module": "jupyter-leaflet",
            "_model_module_version": "^0.17",
            "_model_name": "LeafletDrawControlModel",
            "_view_count": null,
            "_view_module": "jupyter-leaflet",
            "_view_module_version": "^0.17",
            "_view_name": "LeafletDrawControlView",
            "circle": {
              "shapeOptions": {
                "color": "#3388ff"
              }
            },
            "circlemarker": {},
            "data": [],
            "edit": true,
            "marker": {
              "shapeOptions": {
                "color": "#3388ff"
              }
            },
            "options": [
              "position"
            ],
            "polygon": {
              "shapeOptions": {}
            },
            "polyline": {
              "shapeOptions": {}
            },
            "position": "topleft",
            "rectangle": {
              "shapeOptions": {
                "color": "#3388ff"
              }
            },
            "remove": true
          }
        },
        "a883ac4ba57445a99e2aaa4a663277b2": {
          "model_module": "jupyter-leaflet",
          "model_name": "LeafletWidgetControlModel",
          "model_module_version": "^0.17",
          "state": {
            "_model_module": "jupyter-leaflet",
            "_model_module_version": "^0.17",
            "_model_name": "LeafletWidgetControlModel",
            "_view_count": null,
            "_view_module": "jupyter-leaflet",
            "_view_module_version": "^0.17",
            "_view_name": "LeafletWidgetControlView",
            "max_height": null,
            "max_width": null,
            "min_height": null,
            "min_width": null,
            "options": [
              "position",
              "transparent_bg"
            ],
            "position": "topright",
            "transparent_bg": false,
            "widget": "IPY_MODEL_c24a1eff9e2f4583aaeea4cf023e6da6"
          }
        },
        "2ec8e65cfffe4685a9ac11e874938b3f": {
          "model_module": "jupyter-leaflet",
          "model_name": "LeafletMapStyleModel",
          "model_module_version": "^0.17",
          "state": {
            "_model_module": "jupyter-leaflet",
            "_model_module_version": "^0.17",
            "_model_name": "LeafletMapStyleModel",
            "_view_count": null,
            "_view_module": "@jupyter-widgets/base",
            "_view_module_version": "1.2.0",
            "_view_name": "StyleView",
            "cursor": "grab"
          }
        },
        "f335bb4cb85749ad9f6536e6830595ed": {
          "model_module": "jupyter-leaflet",
          "model_name": "LeafletMapStyleModel",
          "model_module_version": "^0.17",
          "state": {
            "_model_module": "jupyter-leaflet",
            "_model_module_version": "^0.17",
            "_model_name": "LeafletMapStyleModel",
            "_view_count": null,
            "_view_module": "@jupyter-widgets/base",
            "_view_module_version": "1.2.0",
            "_view_name": "StyleView",
            "cursor": "move"
          }
        },
        "f887340480e144338a83533353bfada0": {
          "model_module": "jupyter-leaflet",
          "model_name": "LeafletTileLayerModel",
          "model_module_version": "^0.17",
          "state": {
            "_model_module": "jupyter-leaflet",
            "_model_module_version": "^0.17",
            "_model_name": "LeafletTileLayerModel",
            "_view_count": null,
            "_view_module": "jupyter-leaflet",
            "_view_module_version": "^0.17",
            "_view_name": "LeafletTileLayerView",
            "attribution": "&copy; <a href=\"https://www.openstreetmap.org/copyright\">OpenStreetMap</a> contributors",
            "base": true,
            "bottom": true,
            "bounds": null,
            "detect_retina": false,
            "loading": false,
            "max_native_zoom": null,
            "max_zoom": 19,
            "min_native_zoom": null,
            "min_zoom": 1,
            "name": "OpenStreetMap.Mapnik",
            "no_wrap": false,
            "opacity": 1,
            "options": [
              "attribution",
              "bounds",
              "detect_retina",
              "max_native_zoom",
              "max_zoom",
              "min_native_zoom",
              "min_zoom",
              "no_wrap",
              "tile_size",
              "tms",
              "zoom_offset"
            ],
            "pane": "",
            "popup": null,
            "popup_max_height": null,
            "popup_max_width": 300,
            "popup_min_width": 50,
            "show_loading": false,
            "subitems": [],
            "tile_size": 256,
            "tms": false,
            "url": "https://tile.openstreetmap.org/{z}/{x}/{y}.png",
            "visible": true,
            "zoom_offset": 0
          }
        },
        "9e860332bcc34d128683f05f9413a5a1": {
          "model_module": "jupyter-leaflet",
          "model_name": "LeafletTileLayerModel",
          "model_module_version": "^0.17",
          "state": {
            "_model_module": "jupyter-leaflet",
            "_model_module_version": "^0.17",
            "_model_name": "LeafletTileLayerModel",
            "_view_count": null,
            "_view_module": "jupyter-leaflet",
            "_view_module_version": "^0.17",
            "_view_name": "LeafletTileLayerView",
            "attribution": "Google",
            "base": false,
            "bottom": true,
            "bounds": null,
            "detect_retina": false,
            "loading": false,
            "max_native_zoom": null,
            "max_zoom": 22,
            "min_native_zoom": null,
            "min_zoom": 0,
            "name": "Google Maps",
            "no_wrap": false,
            "opacity": 0,
            "options": [
              "attribution",
              "bounds",
              "detect_retina",
              "max_native_zoom",
              "max_zoom",
              "min_native_zoom",
              "min_zoom",
              "no_wrap",
              "tile_size",
              "tms",
              "zoom_offset"
            ],
            "pane": "",
            "popup": null,
            "popup_max_height": null,
            "popup_max_width": 300,
            "popup_min_width": 50,
            "show_loading": false,
            "subitems": [],
            "tile_size": 256,
            "tms": false,
            "url": "https://mt1.google.com/vt/lyrs=m&x={x}&y={y}&z={z}",
            "visible": true,
            "zoom_offset": 0
          }
        },
        "e40d441046c0418589cae594034ec22d": {
          "model_module": "@jupyter-widgets/base",
          "model_name": "LayoutModel",
          "model_module_version": "1.2.0",
          "state": {
            "_model_module": "@jupyter-widgets/base",
            "_model_module_version": "1.2.0",
            "_model_name": "LayoutModel",
            "_view_count": null,
            "_view_module": "@jupyter-widgets/base",
            "_view_module_version": "1.2.0",
            "_view_name": "LayoutView",
            "align_content": null,
            "align_items": null,
            "align_self": null,
            "border": null,
            "bottom": null,
            "display": null,
            "flex": null,
            "flex_flow": null,
            "grid_area": null,
            "grid_auto_columns": null,
            "grid_auto_flow": null,
            "grid_auto_rows": null,
            "grid_column": null,
            "grid_gap": null,
            "grid_row": null,
            "grid_template_areas": null,
            "grid_template_columns": null,
            "grid_template_rows": null,
            "height": "600px",
            "justify_content": null,
            "justify_items": null,
            "left": null,
            "margin": null,
            "max_height": null,
            "max_width": null,
            "min_height": null,
            "min_width": null,
            "object_fit": null,
            "object_position": null,
            "order": null,
            "overflow": null,
            "overflow_x": null,
            "overflow_y": null,
            "padding": null,
            "right": null,
            "top": null,
            "visibility": null,
            "width": null
          }
        },
        "ece05e7b13654f25ab96d8f34d0b59cf": {
          "model_module": "jupyter-leaflet",
          "model_name": "LeafletMapStyleModel",
          "model_module_version": "^0.17",
          "state": {
            "_model_module": "jupyter-leaflet",
            "_model_module_version": "^0.17",
            "_model_name": "LeafletMapStyleModel",
            "_view_count": null,
            "_view_module": "@jupyter-widgets/base",
            "_view_module_version": "1.2.0",
            "_view_name": "StyleView",
            "cursor": "grab"
          }
        },
        "0a35fa3361134fb4888e82f07693972d": {
          "model_module": "@jupyter-widgets/controls",
          "model_name": "HBoxModel",
          "model_module_version": "1.5.0",
          "state": {
            "_dom_classes": [],
            "_model_module": "@jupyter-widgets/controls",
            "_model_module_version": "1.5.0",
            "_model_name": "HBoxModel",
            "_view_count": null,
            "_view_module": "@jupyter-widgets/controls",
            "_view_module_version": "1.5.0",
            "_view_name": "HBoxView",
            "box_style": "",
            "children": [
              "IPY_MODEL_92ca5a9ea1e5418382c1e200d6130f1d"
            ],
            "layout": "IPY_MODEL_4fb8806f42164d2381e44c161295bfa7"
          }
        },
        "c24a1eff9e2f4583aaeea4cf023e6da6": {
          "model_module": "@jupyter-widgets/controls",
          "model_name": "VBoxModel",
          "model_module_version": "1.5.0",
          "state": {
            "_dom_classes": [],
            "_model_module": "@jupyter-widgets/controls",
            "_model_module_version": "1.5.0",
            "_model_name": "VBoxModel",
            "_view_count": null,
            "_view_module": "@jupyter-widgets/controls",
            "_view_module_version": "1.5.0",
            "_view_name": "VBoxView",
            "box_style": "",
            "children": [
              "IPY_MODEL_b2cfd0796e2f4a5088ba1cd464fdba4e"
            ],
            "layout": "IPY_MODEL_db0d04a00f384f0093a564d242b523b0"
          }
        },
        "92ca5a9ea1e5418382c1e200d6130f1d": {
          "model_module": "@jupyter-widgets/controls",
          "model_name": "ToggleButtonModel",
          "model_module_version": "1.5.0",
          "state": {
            "_dom_classes": [],
            "_model_module": "@jupyter-widgets/controls",
            "_model_module_version": "1.5.0",
            "_model_name": "ToggleButtonModel",
            "_view_count": null,
            "_view_module": "@jupyter-widgets/controls",
            "_view_module_version": "1.5.0",
            "_view_name": "ToggleButtonView",
            "button_style": "",
            "description": "",
            "description_tooltip": null,
            "disabled": false,
            "icon": "globe",
            "layout": "IPY_MODEL_3b783ba4fbaf4db3bb0ff63aa4f2b4e6",
            "style": "IPY_MODEL_dc9e7634e76744caab18c9d1efefc654",
            "tooltip": "Search location/data",
            "value": false
          }
        },
        "4fb8806f42164d2381e44c161295bfa7": {
          "model_module": "@jupyter-widgets/base",
          "model_name": "LayoutModel",
          "model_module_version": "1.2.0",
          "state": {
            "_model_module": "@jupyter-widgets/base",
            "_model_module_version": "1.2.0",
            "_model_name": "LayoutModel",
            "_view_count": null,
            "_view_module": "@jupyter-widgets/base",
            "_view_module_version": "1.2.0",
            "_view_name": "LayoutView",
            "align_content": null,
            "align_items": null,
            "align_self": null,
            "border": null,
            "bottom": null,
            "display": null,
            "flex": null,
            "flex_flow": null,
            "grid_area": null,
            "grid_auto_columns": null,
            "grid_auto_flow": null,
            "grid_auto_rows": null,
            "grid_column": null,
            "grid_gap": null,
            "grid_row": null,
            "grid_template_areas": null,
            "grid_template_columns": null,
            "grid_template_rows": null,
            "height": null,
            "justify_content": null,
            "justify_items": null,
            "left": null,
            "margin": null,
            "max_height": null,
            "max_width": null,
            "min_height": null,
            "min_width": null,
            "object_fit": null,
            "object_position": null,
            "order": null,
            "overflow": null,
            "overflow_x": null,
            "overflow_y": null,
            "padding": null,
            "right": null,
            "top": null,
            "visibility": null,
            "width": null
          }
        },
        "b2cfd0796e2f4a5088ba1cd464fdba4e": {
          "model_module": "@jupyter-widgets/controls",
          "model_name": "ToggleButtonModel",
          "model_module_version": "1.5.0",
          "state": {
            "_dom_classes": [],
            "_model_module": "@jupyter-widgets/controls",
            "_model_module_version": "1.5.0",
            "_model_name": "ToggleButtonModel",
            "_view_count": null,
            "_view_module": "@jupyter-widgets/controls",
            "_view_module_version": "1.5.0",
            "_view_name": "ToggleButtonView",
            "button_style": "",
            "description": "",
            "description_tooltip": null,
            "disabled": false,
            "icon": "wrench",
            "layout": "IPY_MODEL_0e2185745deb4065a7337009e964a58b",
            "style": "IPY_MODEL_e52650fe3b694364bed159f1ab468a0d",
            "tooltip": "Toolbar",
            "value": false
          }
        },
        "db0d04a00f384f0093a564d242b523b0": {
          "model_module": "@jupyter-widgets/base",
          "model_name": "LayoutModel",
          "model_module_version": "1.2.0",
          "state": {
            "_model_module": "@jupyter-widgets/base",
            "_model_module_version": "1.2.0",
            "_model_name": "LayoutModel",
            "_view_count": null,
            "_view_module": "@jupyter-widgets/base",
            "_view_module_version": "1.2.0",
            "_view_name": "LayoutView",
            "align_content": null,
            "align_items": null,
            "align_self": null,
            "border": null,
            "bottom": null,
            "display": null,
            "flex": null,
            "flex_flow": null,
            "grid_area": null,
            "grid_auto_columns": null,
            "grid_auto_flow": null,
            "grid_auto_rows": null,
            "grid_column": null,
            "grid_gap": null,
            "grid_row": null,
            "grid_template_areas": null,
            "grid_template_columns": null,
            "grid_template_rows": null,
            "height": null,
            "justify_content": null,
            "justify_items": null,
            "left": null,
            "margin": null,
            "max_height": null,
            "max_width": null,
            "min_height": null,
            "min_width": null,
            "object_fit": null,
            "object_position": null,
            "order": null,
            "overflow": null,
            "overflow_x": null,
            "overflow_y": null,
            "padding": null,
            "right": null,
            "top": null,
            "visibility": null,
            "width": null
          }
        },
        "3b783ba4fbaf4db3bb0ff63aa4f2b4e6": {
          "model_module": "@jupyter-widgets/base",
          "model_name": "LayoutModel",
          "model_module_version": "1.2.0",
          "state": {
            "_model_module": "@jupyter-widgets/base",
            "_model_module_version": "1.2.0",
            "_model_name": "LayoutModel",
            "_view_count": null,
            "_view_module": "@jupyter-widgets/base",
            "_view_module_version": "1.2.0",
            "_view_name": "LayoutView",
            "align_content": null,
            "align_items": null,
            "align_self": null,
            "border": null,
            "bottom": null,
            "display": null,
            "flex": null,
            "flex_flow": null,
            "grid_area": null,
            "grid_auto_columns": null,
            "grid_auto_flow": null,
            "grid_auto_rows": null,
            "grid_column": null,
            "grid_gap": null,
            "grid_row": null,
            "grid_template_areas": null,
            "grid_template_columns": null,
            "grid_template_rows": null,
            "height": "28px",
            "justify_content": null,
            "justify_items": null,
            "left": null,
            "margin": null,
            "max_height": null,
            "max_width": null,
            "min_height": null,
            "min_width": null,
            "object_fit": null,
            "object_position": null,
            "order": null,
            "overflow": null,
            "overflow_x": null,
            "overflow_y": null,
            "padding": "0px 0px 0px 4px",
            "right": null,
            "top": null,
            "visibility": null,
            "width": "28px"
          }
        },
        "dc9e7634e76744caab18c9d1efefc654": {
          "model_module": "@jupyter-widgets/controls",
          "model_name": "DescriptionStyleModel",
          "model_module_version": "1.5.0",
          "state": {
            "_model_module": "@jupyter-widgets/controls",
            "_model_module_version": "1.5.0",
            "_model_name": "DescriptionStyleModel",
            "_view_count": null,
            "_view_module": "@jupyter-widgets/base",
            "_view_module_version": "1.2.0",
            "_view_name": "StyleView",
            "description_width": ""
          }
        },
        "0e2185745deb4065a7337009e964a58b": {
          "model_module": "@jupyter-widgets/base",
          "model_name": "LayoutModel",
          "model_module_version": "1.2.0",
          "state": {
            "_model_module": "@jupyter-widgets/base",
            "_model_module_version": "1.2.0",
            "_model_name": "LayoutModel",
            "_view_count": null,
            "_view_module": "@jupyter-widgets/base",
            "_view_module_version": "1.2.0",
            "_view_name": "LayoutView",
            "align_content": null,
            "align_items": null,
            "align_self": null,
            "border": null,
            "bottom": null,
            "display": null,
            "flex": null,
            "flex_flow": null,
            "grid_area": null,
            "grid_auto_columns": null,
            "grid_auto_flow": null,
            "grid_auto_rows": null,
            "grid_column": null,
            "grid_gap": null,
            "grid_row": null,
            "grid_template_areas": null,
            "grid_template_columns": null,
            "grid_template_rows": null,
            "height": "28px",
            "justify_content": null,
            "justify_items": null,
            "left": null,
            "margin": null,
            "max_height": null,
            "max_width": null,
            "min_height": null,
            "min_width": null,
            "object_fit": null,
            "object_position": null,
            "order": null,
            "overflow": null,
            "overflow_x": null,
            "overflow_y": null,
            "padding": "0px 0px 0px 4px",
            "right": null,
            "top": null,
            "visibility": null,
            "width": "28px"
          }
        },
        "e52650fe3b694364bed159f1ab468a0d": {
          "model_module": "@jupyter-widgets/controls",
          "model_name": "DescriptionStyleModel",
          "model_module_version": "1.5.0",
          "state": {
            "_model_module": "@jupyter-widgets/controls",
            "_model_module_version": "1.5.0",
            "_model_name": "DescriptionStyleModel",
            "_view_count": null,
            "_view_module": "@jupyter-widgets/base",
            "_view_module_version": "1.2.0",
            "_view_name": "StyleView",
            "description_width": ""
          }
        },
        "22feffdf93f44692ad9cf6637bf486f8": {
          "model_module": "jupyter-leaflet",
          "model_name": "LeafletTileLayerModel",
          "model_module_version": "^0.17",
          "state": {
            "_model_module": "jupyter-leaflet",
            "_model_module_version": "^0.17",
            "_model_name": "LeafletTileLayerModel",
            "_view_count": null,
            "_view_module": "jupyter-leaflet",
            "_view_module_version": "^0.17",
            "_view_name": "LeafletTileLayerView",
            "attribution": "Google Earth Engine",
            "base": false,
            "bottom": true,
            "bounds": null,
            "detect_retina": false,
            "loading": false,
            "max_native_zoom": null,
            "max_zoom": 24,
            "min_native_zoom": null,
            "min_zoom": 0,
            "name": "SCI",
            "no_wrap": false,
            "opacity": 1,
            "options": [
              "attribution",
              "bounds",
              "detect_retina",
              "max_native_zoom",
              "max_zoom",
              "min_native_zoom",
              "min_zoom",
              "no_wrap",
              "tile_size",
              "tms",
              "zoom_offset"
            ],
            "pane": "",
            "popup": null,
            "popup_max_height": null,
            "popup_max_width": 300,
            "popup_min_width": 50,
            "show_loading": false,
            "subitems": [],
            "tile_size": 256,
            "tms": false,
            "url": "https://earthengine.googleapis.com/v1alpha/projects/earthengine-legacy/maps/953816d596bf8dfe7ae0be8ace506be9-b12c6c3ad876d44a6e4c56ee73700af0/tiles/{z}/{x}/{y}",
            "visible": true,
            "zoom_offset": 0
          }
        },
        "8f1f6ab593964fbebdf538a56c634380": {
          "model_module": "jupyter-leaflet",
          "model_name": "LeafletTileLayerModel",
          "model_module_version": "^0.17",
          "state": {
            "_model_module": "jupyter-leaflet",
            "_model_module_version": "^0.17",
            "_model_name": "LeafletTileLayerModel",
            "_view_count": null,
            "_view_module": "jupyter-leaflet",
            "_view_module_version": "^0.17",
            "_view_name": "LeafletTileLayerView",
            "attribution": "Google Earth Engine",
            "base": false,
            "bottom": true,
            "bounds": null,
            "detect_retina": false,
            "loading": false,
            "max_native_zoom": null,
            "max_zoom": 24,
            "min_native_zoom": null,
            "min_zoom": 0,
            "name": "CCI",
            "no_wrap": false,
            "opacity": 1,
            "options": [
              "attribution",
              "bounds",
              "detect_retina",
              "max_native_zoom",
              "max_zoom",
              "min_native_zoom",
              "min_zoom",
              "no_wrap",
              "tile_size",
              "tms",
              "zoom_offset"
            ],
            "pane": "",
            "popup": null,
            "popup_max_height": null,
            "popup_max_width": 300,
            "popup_min_width": 50,
            "show_loading": false,
            "subitems": [],
            "tile_size": 256,
            "tms": false,
            "url": "https://earthengine.googleapis.com/v1alpha/projects/earthengine-legacy/maps/b6a407dd035fc1cfe057b294b6d60b64-d5947c749b904a4791c3db0987ab630d/tiles/{z}/{x}/{y}",
            "visible": true,
            "zoom_offset": 0
          }
        }
      }
    }
  },
  "nbformat": 4,
  "nbformat_minor": 5
}